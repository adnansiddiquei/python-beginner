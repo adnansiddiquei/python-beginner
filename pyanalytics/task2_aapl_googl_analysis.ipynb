{
 "cells": [
  {
   "cell_type": "markdown",
   "metadata": {},
   "source": [
    "# AAPL and GOOGL Analysis\n",
    "The few cells below walk you through downloading some Apple AAPL and Google GOOGL stock data over the \n",
    "last year using a package called `yfinance` and then performing some analysis on it.\n",
    "\n",
    "This section will require you start familiarising yourself with `numpy` and `pandas` so if you need to,\n",
    "read a few beginners blogs / a few beginners YouTube videos on these packages. They are both very related\n",
    "and `pandas` is built on top of `numpy`.\n",
    "\n",
    "`matplotlib` is also the main plotting library used in python data analytics, so we'll start getting familiar\n",
    "with this.\n",
    "\n",
    "Do not use anything except the packages imported below to answer all of the questions."
   ]
  },
  {
   "cell_type": "code",
   "execution_count": 38,
   "metadata": {},
   "outputs": [],
   "source": [
    "# These are packages that we installed outselves, in pyproject.toml\n",
    "import yfinance as yf\n",
    "import pandas as pd\n",
    "import numpy as np\n",
    "import matplotlib.pyplot as plt  # plotting library"
   ]
  },
  {
   "cell_type": "code",
   "execution_count": 39,
   "metadata": {},
   "outputs": [
    {
     "name": "stderr",
     "output_type": "stream",
     "text": [
      "[*********************100%***********************]  2 of 2 completed\n"
     ]
    }
   ],
   "source": [
    "# 1. Download Apple and Google stock data from 2024-01-01 to 2025-01-01\n",
    "data = yf.download(['AAPL', 'GOOGL'], start='2024-01-01', end='2025-01-01')"
   ]
  },
  {
   "cell_type": "code",
   "execution_count": 41,
   "metadata": {},
   "outputs": [
    {
     "data": {
      "text/html": [
       "<div>\n",
       "<style scoped>\n",
       "    .dataframe tbody tr th:only-of-type {\n",
       "        vertical-align: middle;\n",
       "    }\n",
       "\n",
       "    .dataframe tbody tr th {\n",
       "        vertical-align: top;\n",
       "    }\n",
       "\n",
       "    .dataframe thead tr th {\n",
       "        text-align: left;\n",
       "    }\n",
       "\n",
       "    .dataframe thead tr:last-of-type th {\n",
       "        text-align: right;\n",
       "    }\n",
       "</style>\n",
       "<table border=\"1\" class=\"dataframe\">\n",
       "  <thead>\n",
       "    <tr>\n",
       "      <th>Price</th>\n",
       "      <th colspan=\"2\" halign=\"left\">Close</th>\n",
       "      <th colspan=\"2\" halign=\"left\">High</th>\n",
       "      <th colspan=\"2\" halign=\"left\">Low</th>\n",
       "      <th colspan=\"2\" halign=\"left\">Open</th>\n",
       "      <th colspan=\"2\" halign=\"left\">Volume</th>\n",
       "    </tr>\n",
       "    <tr>\n",
       "      <th>Ticker</th>\n",
       "      <th>AAPL</th>\n",
       "      <th>GOOGL</th>\n",
       "      <th>AAPL</th>\n",
       "      <th>GOOGL</th>\n",
       "      <th>AAPL</th>\n",
       "      <th>GOOGL</th>\n",
       "      <th>AAPL</th>\n",
       "      <th>GOOGL</th>\n",
       "      <th>AAPL</th>\n",
       "      <th>GOOGL</th>\n",
       "    </tr>\n",
       "    <tr>\n",
       "      <th>Date</th>\n",
       "      <th></th>\n",
       "      <th></th>\n",
       "      <th></th>\n",
       "      <th></th>\n",
       "      <th></th>\n",
       "      <th></th>\n",
       "      <th></th>\n",
       "      <th></th>\n",
       "      <th></th>\n",
       "      <th></th>\n",
       "    </tr>\n",
       "  </thead>\n",
       "  <tbody>\n",
       "    <tr>\n",
       "      <th>2024-01-02</th>\n",
       "      <td>184.734985</td>\n",
       "      <td>137.670929</td>\n",
       "      <td>187.521338</td>\n",
       "      <td>138.946304</td>\n",
       "      <td>182.993517</td>\n",
       "      <td>135.987031</td>\n",
       "      <td>186.237618</td>\n",
       "      <td>138.049561</td>\n",
       "      <td>82488700</td>\n",
       "      <td>23711200</td>\n",
       "    </tr>\n",
       "    <tr>\n",
       "      <th>2024-01-03</th>\n",
       "      <td>183.351776</td>\n",
       "      <td>138.418228</td>\n",
       "      <td>184.973835</td>\n",
       "      <td>139.125670</td>\n",
       "      <td>182.535766</td>\n",
       "      <td>136.584878</td>\n",
       "      <td>183.321924</td>\n",
       "      <td>136.754262</td>\n",
       "      <td>58414500</td>\n",
       "      <td>24212100</td>\n",
       "    </tr>\n",
       "    <tr>\n",
       "      <th>2024-01-04</th>\n",
       "      <td>181.023163</td>\n",
       "      <td>135.897354</td>\n",
       "      <td>182.197403</td>\n",
       "      <td>138.657353</td>\n",
       "      <td>179.998185</td>\n",
       "      <td>135.857505</td>\n",
       "      <td>181.261983</td>\n",
       "      <td>137.920020</td>\n",
       "      <td>71983600</td>\n",
       "      <td>27137700</td>\n",
       "    </tr>\n",
       "    <tr>\n",
       "      <th>2024-01-05</th>\n",
       "      <td>180.296707</td>\n",
       "      <td>135.239746</td>\n",
       "      <td>181.869006</td>\n",
       "      <td>136.664589</td>\n",
       "      <td>179.291637</td>\n",
       "      <td>134.661839</td>\n",
       "      <td>181.102771</td>\n",
       "      <td>136.256066</td>\n",
       "      <td>62303300</td>\n",
       "      <td>22506000</td>\n",
       "    </tr>\n",
       "    <tr>\n",
       "      <th>2024-01-08</th>\n",
       "      <td>184.655365</td>\n",
       "      <td>138.338516</td>\n",
       "      <td>184.695178</td>\n",
       "      <td>138.507900</td>\n",
       "      <td>180.615161</td>\n",
       "      <td>135.767833</td>\n",
       "      <td>181.202281</td>\n",
       "      <td>135.797724</td>\n",
       "      <td>59144500</td>\n",
       "      <td>21404000</td>\n",
       "    </tr>\n",
       "    <tr>\n",
       "      <th>...</th>\n",
       "      <td>...</td>\n",
       "      <td>...</td>\n",
       "      <td>...</td>\n",
       "      <td>...</td>\n",
       "      <td>...</td>\n",
       "      <td>...</td>\n",
       "      <td>...</td>\n",
       "      <td>...</td>\n",
       "      <td>...</td>\n",
       "      <td>...</td>\n",
       "    </tr>\n",
       "    <tr>\n",
       "      <th>2024-12-24</th>\n",
       "      <td>258.200012</td>\n",
       "      <td>196.110001</td>\n",
       "      <td>258.209991</td>\n",
       "      <td>196.110001</td>\n",
       "      <td>255.289993</td>\n",
       "      <td>193.779999</td>\n",
       "      <td>255.490005</td>\n",
       "      <td>194.839996</td>\n",
       "      <td>23234700</td>\n",
       "      <td>10403300</td>\n",
       "    </tr>\n",
       "    <tr>\n",
       "      <th>2024-12-26</th>\n",
       "      <td>259.019989</td>\n",
       "      <td>195.600006</td>\n",
       "      <td>260.100006</td>\n",
       "      <td>196.750000</td>\n",
       "      <td>257.630005</td>\n",
       "      <td>194.380005</td>\n",
       "      <td>258.190002</td>\n",
       "      <td>195.149994</td>\n",
       "      <td>27237100</td>\n",
       "      <td>12046600</td>\n",
       "    </tr>\n",
       "    <tr>\n",
       "      <th>2024-12-27</th>\n",
       "      <td>255.589996</td>\n",
       "      <td>192.759995</td>\n",
       "      <td>258.700012</td>\n",
       "      <td>195.320007</td>\n",
       "      <td>253.059998</td>\n",
       "      <td>190.649994</td>\n",
       "      <td>257.829987</td>\n",
       "      <td>194.949997</td>\n",
       "      <td>42355300</td>\n",
       "      <td>18891400</td>\n",
       "    </tr>\n",
       "    <tr>\n",
       "      <th>2024-12-30</th>\n",
       "      <td>252.199997</td>\n",
       "      <td>191.240005</td>\n",
       "      <td>253.500000</td>\n",
       "      <td>192.550003</td>\n",
       "      <td>250.750000</td>\n",
       "      <td>189.119995</td>\n",
       "      <td>252.229996</td>\n",
       "      <td>189.800003</td>\n",
       "      <td>35557500</td>\n",
       "      <td>14264700</td>\n",
       "    </tr>\n",
       "    <tr>\n",
       "      <th>2024-12-31</th>\n",
       "      <td>250.419998</td>\n",
       "      <td>189.300003</td>\n",
       "      <td>253.279999</td>\n",
       "      <td>191.960007</td>\n",
       "      <td>249.429993</td>\n",
       "      <td>188.509995</td>\n",
       "      <td>252.440002</td>\n",
       "      <td>191.080002</td>\n",
       "      <td>39480700</td>\n",
       "      <td>17466900</td>\n",
       "    </tr>\n",
       "  </tbody>\n",
       "</table>\n",
       "<p>252 rows × 10 columns</p>\n",
       "</div>"
      ],
      "text/plain": [
       "Price            Close                    High                     Low  \\\n",
       "Ticker            AAPL       GOOGL        AAPL       GOOGL        AAPL   \n",
       "Date                                                                     \n",
       "2024-01-02  184.734985  137.670929  187.521338  138.946304  182.993517   \n",
       "2024-01-03  183.351776  138.418228  184.973835  139.125670  182.535766   \n",
       "2024-01-04  181.023163  135.897354  182.197403  138.657353  179.998185   \n",
       "2024-01-05  180.296707  135.239746  181.869006  136.664589  179.291637   \n",
       "2024-01-08  184.655365  138.338516  184.695178  138.507900  180.615161   \n",
       "...                ...         ...         ...         ...         ...   \n",
       "2024-12-24  258.200012  196.110001  258.209991  196.110001  255.289993   \n",
       "2024-12-26  259.019989  195.600006  260.100006  196.750000  257.630005   \n",
       "2024-12-27  255.589996  192.759995  258.700012  195.320007  253.059998   \n",
       "2024-12-30  252.199997  191.240005  253.500000  192.550003  250.750000   \n",
       "2024-12-31  250.419998  189.300003  253.279999  191.960007  249.429993   \n",
       "\n",
       "Price                         Open                Volume            \n",
       "Ticker           GOOGL        AAPL       GOOGL      AAPL     GOOGL  \n",
       "Date                                                                \n",
       "2024-01-02  135.987031  186.237618  138.049561  82488700  23711200  \n",
       "2024-01-03  136.584878  183.321924  136.754262  58414500  24212100  \n",
       "2024-01-04  135.857505  181.261983  137.920020  71983600  27137700  \n",
       "2024-01-05  134.661839  181.102771  136.256066  62303300  22506000  \n",
       "2024-01-08  135.767833  181.202281  135.797724  59144500  21404000  \n",
       "...                ...         ...         ...       ...       ...  \n",
       "2024-12-24  193.779999  255.490005  194.839996  23234700  10403300  \n",
       "2024-12-26  194.380005  258.190002  195.149994  27237100  12046600  \n",
       "2024-12-27  190.649994  257.829987  194.949997  42355300  18891400  \n",
       "2024-12-30  189.119995  252.229996  189.800003  35557500  14264700  \n",
       "2024-12-31  188.509995  252.440002  191.080002  39480700  17466900  \n",
       "\n",
       "[252 rows x 10 columns]"
      ]
     },
     "execution_count": 41,
     "metadata": {},
     "output_type": "execute_result"
    }
   ],
   "source": [
    "# 2. Have a glance at the data\n",
    "#   We have two headers, the first header row contains Price, Close, High, Low, Open and Volume\n",
    "#   The second header row is the ticker, so it is AAPL and GOOGL, for each of the prices (OCHL - open close high low)\n",
    "data"
   ]
  },
  {
   "cell_type": "code",
   "execution_count": 42,
   "metadata": {},
   "outputs": [
    {
     "data": {
      "text/plain": [
       "pandas.core.frame.DataFrame"
      ]
     },
     "execution_count": 42,
     "metadata": {},
     "output_type": "execute_result"
    }
   ],
   "source": [
    "# Notice how the above data structure is a pandas DataFrame. yfinance returns data as a pandas DataFrame\n",
    "# which is really useful\n",
    "type(data)"
   ]
  },
  {
   "cell_type": "code",
   "execution_count": 43,
   "metadata": {},
   "outputs": [
    {
     "data": {
      "text/html": [
       "<div>\n",
       "<style scoped>\n",
       "    .dataframe tbody tr th:only-of-type {\n",
       "        vertical-align: middle;\n",
       "    }\n",
       "\n",
       "    .dataframe tbody tr th {\n",
       "        vertical-align: top;\n",
       "    }\n",
       "\n",
       "    .dataframe thead th {\n",
       "        text-align: right;\n",
       "    }\n",
       "</style>\n",
       "<table border=\"1\" class=\"dataframe\">\n",
       "  <thead>\n",
       "    <tr style=\"text-align: right;\">\n",
       "      <th>Ticker</th>\n",
       "      <th>AAPL</th>\n",
       "      <th>GOOGL</th>\n",
       "    </tr>\n",
       "    <tr>\n",
       "      <th>Date</th>\n",
       "      <th></th>\n",
       "      <th></th>\n",
       "    </tr>\n",
       "  </thead>\n",
       "  <tbody>\n",
       "    <tr>\n",
       "      <th>2024-01-02</th>\n",
       "      <td>184.734985</td>\n",
       "      <td>137.670929</td>\n",
       "    </tr>\n",
       "    <tr>\n",
       "      <th>2024-01-03</th>\n",
       "      <td>183.351776</td>\n",
       "      <td>138.418228</td>\n",
       "    </tr>\n",
       "    <tr>\n",
       "      <th>2024-01-04</th>\n",
       "      <td>181.023163</td>\n",
       "      <td>135.897354</td>\n",
       "    </tr>\n",
       "    <tr>\n",
       "      <th>2024-01-05</th>\n",
       "      <td>180.296707</td>\n",
       "      <td>135.239746</td>\n",
       "    </tr>\n",
       "    <tr>\n",
       "      <th>2024-01-08</th>\n",
       "      <td>184.655365</td>\n",
       "      <td>138.338516</td>\n",
       "    </tr>\n",
       "    <tr>\n",
       "      <th>...</th>\n",
       "      <td>...</td>\n",
       "      <td>...</td>\n",
       "    </tr>\n",
       "    <tr>\n",
       "      <th>2024-12-24</th>\n",
       "      <td>258.200012</td>\n",
       "      <td>196.110001</td>\n",
       "    </tr>\n",
       "    <tr>\n",
       "      <th>2024-12-26</th>\n",
       "      <td>259.019989</td>\n",
       "      <td>195.600006</td>\n",
       "    </tr>\n",
       "    <tr>\n",
       "      <th>2024-12-27</th>\n",
       "      <td>255.589996</td>\n",
       "      <td>192.759995</td>\n",
       "    </tr>\n",
       "    <tr>\n",
       "      <th>2024-12-30</th>\n",
       "      <td>252.199997</td>\n",
       "      <td>191.240005</td>\n",
       "    </tr>\n",
       "    <tr>\n",
       "      <th>2024-12-31</th>\n",
       "      <td>250.419998</td>\n",
       "      <td>189.300003</td>\n",
       "    </tr>\n",
       "  </tbody>\n",
       "</table>\n",
       "<p>252 rows × 2 columns</p>\n",
       "</div>"
      ],
      "text/plain": [
       "Ticker            AAPL       GOOGL\n",
       "Date                              \n",
       "2024-01-02  184.734985  137.670929\n",
       "2024-01-03  183.351776  138.418228\n",
       "2024-01-04  181.023163  135.897354\n",
       "2024-01-05  180.296707  135.239746\n",
       "2024-01-08  184.655365  138.338516\n",
       "...                ...         ...\n",
       "2024-12-24  258.200012  196.110001\n",
       "2024-12-26  259.019989  195.600006\n",
       "2024-12-27  255.589996  192.759995\n",
       "2024-12-30  252.199997  191.240005\n",
       "2024-12-31  250.419998  189.300003\n",
       "\n",
       "[252 rows x 2 columns]"
      ]
     },
     "execution_count": 43,
     "metadata": {},
     "output_type": "execute_result"
    }
   ],
   "source": [
    "# I can access the close prices like this\n",
    "data['Close']"
   ]
  },
  {
   "cell_type": "code",
   "execution_count": 44,
   "metadata": {},
   "outputs": [
    {
     "data": {
      "text/plain": [
       "Date\n",
       "2024-01-02    137.670929\n",
       "2024-01-03    138.418228\n",
       "2024-01-04    135.897354\n",
       "2024-01-05    135.239746\n",
       "2024-01-08    138.338516\n",
       "                 ...    \n",
       "2024-12-24    196.110001\n",
       "2024-12-26    195.600006\n",
       "2024-12-27    192.759995\n",
       "2024-12-30    191.240005\n",
       "2024-12-31    189.300003\n",
       "Name: GOOGL, Length: 252, dtype: float64"
      ]
     },
     "execution_count": 44,
     "metadata": {},
     "output_type": "execute_result"
    }
   ],
   "source": [
    "# And I can access the daily Close price for GOOGL like this\n",
    "data['Close']['GOOGL']"
   ]
  },
  {
   "cell_type": "code",
   "execution_count": 45,
   "metadata": {},
   "outputs": [
    {
     "data": {
      "text/plain": [
       "pandas.core.series.Series"
      ]
     },
     "execution_count": 45,
     "metadata": {},
     "output_type": "execute_result"
    }
   ],
   "source": [
    "# Notice that the type of a single column is something called a pandas `Series`\n",
    "type(data['Close']['GOOGL'])"
   ]
  },
  {
   "cell_type": "code",
   "execution_count": 46,
   "metadata": {},
   "outputs": [
    {
     "name": "stdout",
     "output_type": "stream",
     "text": [
      "137.67092895507812\n",
      "137.67092895507812\n"
     ]
    }
   ],
   "source": [
    "# I can access the first element in a certain colum by either grabbing it by its 'integer location' using\n",
    "# .iloc or by using its date index\n",
    "print(data['Close']['GOOGL'].iloc[0])\n",
    "print(data['Close']['GOOGL']['2024-01-02'])"
   ]
  },
  {
   "cell_type": "code",
   "execution_count": 48,
   "metadata": {},
   "outputs": [
    {
     "data": {
      "image/png": "[encoded data removed]",
      "text/plain": [
       "<Figure size 640x480 with 1 Axes>"
      ]
     },
     "metadata": {},
     "output_type": "display_data"
    }
   ],
   "source": [
    "# Let's use matplotlib to do a quick plot of the daily close price, so we can get a feel for the data\n",
    "\n",
    "# Plot the data\n",
    "plt.plot(data['Close']['AAPL'], label='AAPL')\n",
    "plt.plot(data['Close']['GOOGL'], label='GOOGL')\n",
    "\n",
    "# Format the plot\n",
    "plt.xlabel('Date')\n",
    "plt.ylabel('Price ($ USD)')\n",
    "plt.legend()\n",
    "\n",
    "plt.show()"
   ]
  },
  {
   "cell_type": "code",
   "execution_count": 60,
   "metadata": {},
   "outputs": [
    {
     "data": {
      "image/png": "[encoded data removed]",
      "text/plain": [
       "<Figure size 640x480 with 1 Axes>"
      ]
     },
     "metadata": {},
     "output_type": "display_data"
    }
   ],
   "source": [
    "# Let's use matplotlib to create a box plot of the closing prices for AAPL and GOOGL\n",
    "\n",
    "# Prepare the data for the box plot\n",
    "closing_prices = [data['Close']['AAPL'], data['Close']['GOOGL']]\n",
    "labels = ['AAPL', 'GOOGL']\n",
    "\n",
    "# Create the box plot\n",
    "plt.boxplot(closing_prices, tick_labels=labels)\n",
    "\n",
    "# Format the plot\n",
    "plt.title('Box Plot of Closing Prices for AAPL and GOOGL')\n",
    "plt.ylabel('Price ($ USD)')\n",
    "\n",
    "plt.show()"
   ]
  },
  {
   "cell_type": "markdown",
   "metadata": {},
   "source": [
    "# Questions\n",
    "Feel free to add and create as many cells as you want to do your answers in."
   ]
  },
  {
   "cell_type": "markdown",
   "metadata": {},
   "source": [
    "#### Question 1: What are the mean, median, and standard deviation of the closing prices for AAPL and GOOGL?\n",
    "\n",
    "[This one has been done for you]"
   ]
  },
  {
   "cell_type": "code",
   "execution_count": 49,
   "metadata": {},
   "outputs": [
    {
     "name": "stdout",
     "output_type": "stream",
     "text": [
      "AAPL - Median: 213.78, Mean: 206.77, Std Dev: 25.72\n",
      "GOOGL - Median: 164.42, Mean: 163.41, Std Dev: 15.46\n",
      "\n",
      "Comparison:\n",
      "Median Difference: 49.36\n",
      "Mean Difference: 43.36\n",
      "Standard Deviation Difference: 10.26\n"
     ]
    }
   ],
   "source": [
    "aapl_median = data['Close']['AAPL'].median().round(2)\n",
    "aapl_mean = data['Close']['AAPL'].mean().round(2)\n",
    "aapl_std = data['Close']['AAPL'].std().round(2)\n",
    "\n",
    "googl_median = data['Close']['GOOGL'].median().round(2)\n",
    "googl_mean = data['Close']['GOOGL'].mean().round(2)\n",
    "googl_std = data['Close']['GOOGL'].std().round(2)\n",
    "\n",
    "print(f\"AAPL - Median: {aapl_median}, Mean: {aapl_mean}, Std Dev: {aapl_std}\")\n",
    "print(f\"GOOGL - Median: {googl_median}, Mean: {googl_mean}, Std Dev: {googl_std}\")\n",
    "\n",
    "print(\"\\nComparison:\")\n",
    "print(f\"Median Difference: {aapl_median - googl_median:.02f}\")\n",
    "print(f\"Mean Difference: {aapl_mean - googl_mean:.02f}\")\n",
    "print(f\"Standard Deviation Difference: {aapl_std - googl_std:.02f}\")"
   ]
  },
  {
   "cell_type": "markdown",
   "metadata": {},
   "source": [
    "### Question 2: Visualising Trends\n",
    "What are the daily returns for AAPL and GOOGL, and how do they compare?\n",
    "\n",
    "Daily returns represent the percentage change in the stock's closing price from one day to the next. It helps you understand how much the stock price changes day-to-day.\n",
    "\n",
    "Use the `.pct_change()` method in pandas on the 'Close' column to calculate daily returns. Compare the results using a boxplot."
   ]
  },
  {
   "cell_type": "code",
   "execution_count": null,
   "metadata": {},
   "outputs": [],
   "source": []
  },
  {
   "cell_type": "markdown",
   "metadata": {},
   "source": [
    "### Question 3: Moving Averages\n",
    "What are the 7-day and 30-day moving averages for AAPL and GOOGL?\n",
    "\n",
    "A moving average smooths out price data by creating an average of different subsets of the full data set. It helps identify trends by reducing noise.\n",
    "\n",
    "Use the `.rolling(window=7).mean()` and `.rolling(window=30).mean()` methods in pandas on the 'Close' column to calculate the moving averages. Plot these averages along with the actual closing prices. What do you notice?"
   ]
  },
  {
   "cell_type": "code",
   "execution_count": null,
   "metadata": {},
   "outputs": [],
   "source": []
  },
  {
   "cell_type": "markdown",
   "metadata": {},
   "source": [
    "### Question 4: Correlation Analysis\n",
    "Is there a correlation between the daily returns of AAPL and GOOGL?\n",
    "\n",
    "Correlation measures the strength and direction of a linear relationship between two variables. A high correlation means the stocks move similarly.\n",
    "\n",
    "Calculate the correlation coefficient using the `.corr()` method on the daily returns DataFrame (which you computed in Q2). This will give you a value between -1 and 1.\n",
    "\n",
    "Create another markdown cell and explain what this number indicates. \n",
    "\n",
    "Based on how you decide to call the `.corr` function, the associated docs are one of:\n",
    " - https://pandas.pydata.org/docs/reference/api/pandas.DataFrame.corr.html\n",
    " - https://pandas.pydata.org/docs/reference/api/pandas.Series.corr.html\n",
    "\n",
    "So it is using the pearson correlation coefficient."
   ]
  },
  {
   "cell_type": "code",
   "execution_count": null,
   "metadata": {},
   "outputs": [],
   "source": []
  },
  {
   "cell_type": "markdown",
   "metadata": {},
   "source": [
    "### Question 5: Volatility Analysis\n",
    "Which stock is more volatile, AAPL or GOOGL?\n",
    "\n",
    "Volatility refers to the degree of variation in a stock's price. A higher standard deviation of daily returns indicates higher volatility.\n",
    "\n",
    "Compare the standard deviation of daily returns for both stocks using `.std()` on the daily returns (which you computed in Q2). Which stock has higher volatility?\n",
    "\n",
    "Is this the case all year round? Compute the volatility of each stock on a monthly basis, and compare them. Is one stock always more volatile? Are their volatilities correlated (i.e., are they both more volatile in the same months, and less volatile in the same months?).\n",
    "\n",
    "Use appropriate plots and summarise your results."
   ]
  },
  {
   "cell_type": "code",
   "execution_count": null,
   "metadata": {},
   "outputs": [],
   "source": []
  },
  {
   "cell_type": "markdown",
   "metadata": {},
   "source": [
    "### Question 6: Highest and Lowest Prices\n",
    "What were the highest and lowest closing prices for AAPL and GOOGL in the dataset?\n",
    "\n",
    "Knowing the highest and lowest prices can help you understand the range of price fluctuations over the period.\n",
    "\n",
    "Use `.max()` and `.min()` on the 'Close' column to find the highest and lowest prices."
   ]
  },
  {
   "cell_type": "code",
   "execution_count": null,
   "metadata": {},
   "outputs": [],
   "source": []
  },
  {
   "cell_type": "markdown",
   "metadata": {},
   "source": [
    "### Question 7: Volume Analysis\n",
    "How does the trading volume of AAPL compare to GOOGL over the year?\n",
    "\n",
    "Trading volume indicates how many shares were traded. Comparing volumes can show which stock is more actively traded.\n",
    "\n",
    "Plot the 'Volume' data for both stocks using `matplotlib`. Plot some rolling statistics as well and compare the volumes of the two. Compare them however you want, maybe with some statistics we've already used from above."
   ]
  },
  {
   "cell_type": "code",
   "execution_count": null,
   "metadata": {},
   "outputs": [],
   "source": []
  },
  {
   "cell_type": "markdown",
   "metadata": {},
   "source": [
    "### Question 8: Price Range\n",
    "What is the range of prices (high - low) for each day, and how does it vary over time?\n",
    "\n",
    "The daily price range shows the difference between the highest and lowest prices each day, indicating intraday volatility.\n",
    "\n",
    "Subtract the 'Low' column from the 'High' column to get the daily range, and plot this over time using a line plot.\n",
    "\n",
    "Also compare the intraday price ranges of the two stocks using a box plot."
   ]
  },
  {
   "cell_type": "code",
   "execution_count": null,
   "metadata": {},
   "outputs": [],
   "source": []
  },
  {
   "cell_type": "markdown",
   "metadata": {},
   "source": [
    "### Question 9: Cumulative Returns\n",
    "What are the cumulative returns for AAPL and GOOGL over the period?\n",
    "\n",
    "Cumulative returns show the total change in value over time, assuming you held the stock from the start to the end of the period.\n",
    "\n",
    "Use the cumulative product of daily returns plus one `(1 + daily_returns).cumprod()` to calculate cumulative returns, and plot the results. (Daily returns are calculated as per Q2)\n",
    "\n",
    "Can you explain why you use `(1 + daily_returns).cumprod()` to compute the cumulative returns?"
   ]
  },
  {
   "cell_type": "code",
   "execution_count": null,
   "metadata": {},
   "outputs": [],
   "source": []
  }
 ],
 "metadata": {
  "kernelspec": {
   "display_name": "venv",
   "language": "python",
   "name": "python3"
  },
  "language_info": {
   "codemirror_mode": {
    "name": "ipython",
    "version": 3
   },
   "file_extension": ".py",
   "mimetype": "text/x-python",
   "name": "python",
   "nbconvert_exporter": "python",
   "pygments_lexer": "ipython3",
   "version": "3.12.4"
  }
 },
 "nbformat": 4,
 "nbformat_minor": 2
}
